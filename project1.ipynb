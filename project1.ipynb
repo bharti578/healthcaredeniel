{
 "cells": [
  {
   "cell_type": "markdown",
   "id": "c954ea47-a27f-44b0-873c-f85214e788d6",
   "metadata": {},
   "source": [
    "# INtroduction"
   ]
  },
  {
   "cell_type": "code",
   "execution_count": null,
   "id": "4f9e6146-4a13-480d-bee9-15ee904a7532",
   "metadata": {},
   "outputs": [],
   "source": [
    "In the healthcare industry,insurance claim are submitted by hospitals and healthcare provider \n",
    "to insurance companies for remburement of medical expenses, claim  denial cause financial strain\n",
    "on both healthcare provider and patients leading to increasing administrative coast and delayed "
   ]
  },
  {
   "cell_type": "markdown",
   "id": "ea01b064-f585-4991-8b5d-5608d0f67edc",
   "metadata": {},
   "source": [
    "# Objective "
   ]
  },
  {
   "cell_type": "code",
   "execution_count": null,
   "id": "b455404e-a25a-4f5a-8718-b05f54afdc68",
   "metadata": {},
   "outputs": [],
   "source": []
  },
  {
   "cell_type": "markdown",
   "id": "ec6622ea-1253-449a-b220-e02981cca189",
   "metadata": {},
   "source": [
    "# BUssinss impact"
   ]
  },
  {
   "cell_type": "code",
   "execution_count": null,
   "id": "ebac7696-d5f8-4372-a691-ffb9ff517a29",
   "metadata": {},
   "outputs": [],
   "source": [
    "1. Reduce claim denial by identifying potential issues befor submission\n",
    "2. improve claim approval rate\n",
    "3. minimize financial for healthcare provider and insurance companies"
   ]
  },
  {
   "cell_type": "markdown",
   "id": "05210c9a-118e-4efd-bb98-b97295a113db",
   "metadata": {},
   "source": [
    "# data description"
   ]
  },
  {
   "cell_type": "code",
   "execution_count": null,
   "id": "782bcb4b-6a96-4c01-86e2-6dae4940f5e8",
   "metadata": {},
   "outputs": [],
   "source": [
    "the data set contain historical claim records with various feature"
   ]
  },
  {
   "cell_type": "markdown",
   "id": "f6063e17-edc3-486a-97c0-a0d1ebee09fe",
   "metadata": {},
   "source": [
    "# import libraries"
   ]
  },
  {
   "cell_type": "code",
   "execution_count": 120,
   "id": "cdd3114d-f0b7-4f9c-b765-0e4ab094e89a",
   "metadata": {},
   "outputs": [],
   "source": [
    "# To read data and to operation\n",
    "import pandas as pd\n",
    "import numpy as np\n",
    "\n",
    "# visualization\n",
    "import matplotlib.pyplot as plt\n",
    "import seaborn as sns\n",
    "\n",
    "# split\n",
    "from sklearn.model_selection import train_test_split, GridSearchCV\n",
    "\n",
    "# object to numerical\n",
    "from sklearn.preprocessing import LabelEncoder, OneHotEncoder, StandardScaler\n",
    "\n",
    "# algorithm\n",
    "from sklearn.ensemble import RandomForestClassifier\n",
    "from sklearn.linear_model import LogisticRegression\n",
    "from sklearn.neighbors import KNeighborsClassifier\n",
    "\n",
    "# metric to evaluation\n",
    "from sklearn.metrics import accuracy_score, classification_report, confusion_matrix\n",
    "\n",
    "# to convert if files\n",
    "import pickle\n",
    "import json\n",
    "\n",
    "# to ignor warnings\n",
    "import warnings\n",
    "warnings.filterwarnings('ignore')"
   ]
  },
  {
   "cell_type": "code",
   "execution_count": 121,
   "id": "34dbe2ff-607f-470d-9a9d-b74119d2a97c",
   "metadata": {},
   "outputs": [
    {
     "data": {
      "text/html": [
       "<div>\n",
       "<style scoped>\n",
       "    .dataframe tbody tr th:only-of-type {\n",
       "        vertical-align: middle;\n",
       "    }\n",
       "\n",
       "    .dataframe tbody tr th {\n",
       "        vertical-align: top;\n",
       "    }\n",
       "\n",
       "    .dataframe thead th {\n",
       "        text-align: right;\n",
       "    }\n",
       "</style>\n",
       "<table border=\"1\" class=\"dataframe\">\n",
       "  <thead>\n",
       "    <tr style=\"text-align: right;\">\n",
       "      <th></th>\n",
       "      <th>Claim_ID</th>\n",
       "      <th>Patient_Age</th>\n",
       "      <th>Gender</th>\n",
       "      <th>Provider</th>\n",
       "      <th>Diagnosis</th>\n",
       "      <th>Procedure</th>\n",
       "      <th>Claim_Amount</th>\n",
       "      <th>Hospital_Charges</th>\n",
       "      <th>State</th>\n",
       "      <th>Policy_Type</th>\n",
       "      <th>Claim_Status</th>\n",
       "    </tr>\n",
       "  </thead>\n",
       "  <tbody>\n",
       "    <tr>\n",
       "      <th>4996</th>\n",
       "      <td>C04997</td>\n",
       "      <td>79</td>\n",
       "      <td>Female</td>\n",
       "      <td>P001</td>\n",
       "      <td>D002</td>\n",
       "      <td>PR003</td>\n",
       "      <td>10670</td>\n",
       "      <td>61376</td>\n",
       "      <td>AP</td>\n",
       "      <td>Basic</td>\n",
       "      <td>Approved</td>\n",
       "    </tr>\n",
       "    <tr>\n",
       "      <th>4997</th>\n",
       "      <td>C04998</td>\n",
       "      <td>57</td>\n",
       "      <td>Male</td>\n",
       "      <td>P005</td>\n",
       "      <td>D005</td>\n",
       "      <td>PR005</td>\n",
       "      <td>7897</td>\n",
       "      <td>85144</td>\n",
       "      <td>DL</td>\n",
       "      <td>Premium</td>\n",
       "      <td>Approved</td>\n",
       "    </tr>\n",
       "    <tr>\n",
       "      <th>4998</th>\n",
       "      <td>C04999</td>\n",
       "      <td>71</td>\n",
       "      <td>Female</td>\n",
       "      <td>P005</td>\n",
       "      <td>D003</td>\n",
       "      <td>PR005</td>\n",
       "      <td>40140</td>\n",
       "      <td>89365</td>\n",
       "      <td>WB</td>\n",
       "      <td>Basic</td>\n",
       "      <td>Approved</td>\n",
       "    </tr>\n",
       "    <tr>\n",
       "      <th>4999</th>\n",
       "      <td>C05000</td>\n",
       "      <td>24</td>\n",
       "      <td>Female</td>\n",
       "      <td>P001</td>\n",
       "      <td>D003</td>\n",
       "      <td>PR002</td>\n",
       "      <td>30583</td>\n",
       "      <td>84016</td>\n",
       "      <td>WB</td>\n",
       "      <td>Standard</td>\n",
       "      <td>Approved</td>\n",
       "    </tr>\n",
       "  </tbody>\n",
       "</table>\n",
       "</div>"
      ],
      "text/plain": [
       "     Claim_ID  Patient_Age  Gender Provider Diagnosis Procedure  Claim_Amount  \\\n",
       "4996   C04997           79  Female     P001      D002     PR003         10670   \n",
       "4997   C04998           57    Male     P005      D005     PR005          7897   \n",
       "4998   C04999           71  Female     P005      D003     PR005         40140   \n",
       "4999   C05000           24  Female     P001      D003     PR002         30583   \n",
       "\n",
       "      Hospital_Charges State Policy_Type Claim_Status  \n",
       "4996             61376    AP       Basic     Approved  \n",
       "4997             85144    DL     Premium     Approved  \n",
       "4998             89365    WB       Basic     Approved  \n",
       "4999             84016    WB    Standard     Approved  "
      ]
     },
     "execution_count": 121,
     "metadata": {},
     "output_type": "execute_result"
    }
   ],
   "source": [
    "df = pd.read_csv(\"healthcare_claims_large.csv\")\n",
    "df.head(3)\n",
    "df.tail(4)"
   ]
  },
  {
   "cell_type": "markdown",
   "id": "0983f8c4-89c4-4916-8431-e939769207ed",
   "metadata": {},
   "source": [
    "# step 3. Exploratary data analysis(EDA)"
   ]
  },
  {
   "cell_type": "code",
   "execution_count": 122,
   "id": "a102409f-89d0-4b27-8308-b5fc008d6b0c",
   "metadata": {},
   "outputs": [
    {
     "name": "stdout",
     "output_type": "stream",
     "text": [
      "<class 'pandas.core.frame.DataFrame'>\n",
      "RangeIndex: 5000 entries, 0 to 4999\n",
      "Data columns (total 11 columns):\n",
      " #   Column            Non-Null Count  Dtype \n",
      "---  ------            --------------  ----- \n",
      " 0   Claim_ID          5000 non-null   object\n",
      " 1   Patient_Age       5000 non-null   int64 \n",
      " 2   Gender            5000 non-null   object\n",
      " 3   Provider          5000 non-null   object\n",
      " 4   Diagnosis         5000 non-null   object\n",
      " 5   Procedure         5000 non-null   object\n",
      " 6   Claim_Amount      5000 non-null   int64 \n",
      " 7   Hospital_Charges  5000 non-null   int64 \n",
      " 8   State             5000 non-null   object\n",
      " 9   Policy_Type       5000 non-null   object\n",
      " 10  Claim_Status      5000 non-null   object\n",
      "dtypes: int64(3), object(8)\n",
      "memory usage: 429.8+ KB\n"
     ]
    }
   ],
   "source": [
    "# check data information\n",
    "df.info()"
   ]
  },
  {
   "cell_type": "code",
   "execution_count": null,
   "id": "3c46bbc4-b7c6-45e8-af9b-78fab17b9516",
   "metadata": {},
   "outputs": [],
   "source": [
    "# summary statistics \n",
    "df.describe()\n",
    "\"\"\"age:\n",
    "       1. mean - 53\n",
    "       2. min  - 18 \n",
    "       3. max  - 89\n",
    "       \n",
    "\"\"\""
   ]
  },
  {
   "cell_type": "code",
   "execution_count": 123,
   "id": "8a87d888-b8a7-4fef-b3ac-2b0b1484e027",
   "metadata": {},
   "outputs": [
    {
     "data": {
      "text/plain": [
       "Claim_ID            0\n",
       "Patient_Age         0\n",
       "Gender              0\n",
       "Provider            0\n",
       "Diagnosis           0\n",
       "Procedure           0\n",
       "Claim_Amount        0\n",
       "Hospital_Charges    0\n",
       "State               0\n",
       "Policy_Type         0\n",
       "Claim_Status        0\n",
       "dtype: int64"
      ]
     },
     "execution_count": 123,
     "metadata": {},
     "output_type": "execute_result"
    }
   ],
   "source": [
    "# count of missing values\n",
    "df.isnull().sum()"
   ]
  },
  {
   "cell_type": "code",
   "execution_count": 124,
   "id": "7e87926c-e36a-444f-a9a5-36c1f3e3fe0d",
   "metadata": {},
   "outputs": [],
   "source": [
    "# check duplicate entires (raws)\n",
    "df.duplicated().sum()\n",
    "\n",
    "# drop duplicate\n",
    "\n",
    "df.drop_duplicates(inplace = True)"
   ]
  },
  {
   "cell_type": "code",
   "execution_count": 125,
   "id": "97d406e2-970e-4868-8df9-454058285041",
   "metadata": {},
   "outputs": [
    {
     "data": {
      "text/plain": [
       "Index(['Claim_ID', 'Patient_Age', 'Gender', 'Provider', 'Diagnosis',\n",
       "       'Procedure', 'Claim_Amount', 'Hospital_Charges', 'State', 'Policy_Type',\n",
       "       'Claim_Status'],\n",
       "      dtype='object')"
      ]
     },
     "execution_count": 125,
     "metadata": {},
     "output_type": "execute_result"
    }
   ],
   "source": [
    "df.columns"
   ]
  },
  {
   "cell_type": "code",
   "execution_count": 126,
   "id": "997ba58c-e185-40a3-9c68-8f325f563d18",
   "metadata": {},
   "outputs": [
    {
     "data": {
      "image/png": "[encoded data removed]",
      "text/plain": [
       "<Figure size 640x480 with 1 Axes>"
      ]
     },
     "metadata": {},
     "output_type": "display_data"
    }
   ],
   "source": [
    "#check target variable distribution\n",
    "# classification problems means target in categorical var (countplot)\n",
    "\"\"\"base on this visulization we understand our data is imbalance\n",
    "1. we want to balance this data set \"\"\"\n",
    "\n",
    "import seaborn as sns\n",
    "import matplotlib.pyplot as plt\n",
    "\n",
    "sns.countplot(x = df['Claim_Status'],palette = \"Set2\")\n",
    "plt.title(\"Distribution of claim status\")\n",
    "plt.show()\n"
   ]
  },
  {
   "cell_type": "markdown",
   "id": "7e43c311-9822-4558-8ddf-036aa3934793",
   "metadata": {},
   "source": [
    "# features distribution"
   ]
  },
  {
   "cell_type": "code",
   "execution_count": null,
   "id": "b166288f-c543-4287-af81-64666bbb613c",
   "metadata": {},
   "outputs": [],
   "source": [
    "# features dustribution\n",
    "# plot on only continues columns\n",
    "df.hist(figsize = (12,8),bins= 30)\n",
    "plt.show()"
   ]
  },
  {
   "cell_type": "code",
   "execution_count": null,
   "id": "7fa17098-1c8f-4d26-9d00-2f19461a651e",
   "metadata": {},
   "outputs": [],
   "source": [
    "# Boxplot for outlier detection\n",
    "sns.boxplot(data = df)\n",
    "plt.show()"
   ]
  },
  {
   "cell_type": "code",
   "execution_count": null,
   "id": "4a3f7433-2931-4e6d-8d6b-c84970afca7d",
   "metadata": {},
   "outputs": [],
   "source": [
    "# correlation heatmap\n",
    "# FOR CORRELATION MATRIX WE WANT COLUMN IS NUMERIC"
   ]
  },
  {
   "cell_type": "code",
   "execution_count": null,
   "id": "64c842ff-fe26-416f-94eb-11c7621425d5",
   "metadata": {},
   "outputs": [],
   "source": [
    "df.head(4)"
   ]
  },
  {
   "cell_type": "code",
   "execution_count": null,
   "id": "d822b788-c454-453f-9600-21483e249683",
   "metadata": {},
   "outputs": [],
   "source": [
    "# pair plot for raltional analysis\n",
    "# with target columns ()\n",
    "# hue - we plot base on target column\n",
    "\n",
    "sns.pairplot(df,hue = \"Claim_Status\",diag_kind = \"kde\" )\n",
    "plt.show()"
   ]
  },
  {
   "cell_type": "code",
   "execution_count": 28,
   "id": "9fab7b8f-c7ab-4acb-9cba-f59aa70b6c95",
   "metadata": {},
   "outputs": [],
   "source": [
    "# check skewness\n",
    "#df.skew()"
   ]
  },
  {
   "cell_type": "markdown",
   "id": "d3234041-dcfa-4327-828b-1a3044252a0c",
   "metadata": {},
   "source": [
    "# step4 . features engineering"
   ]
  },
  {
   "cell_type": "code",
   "execution_count": null,
   "id": "68c11d20-c6d5-42ca-9e57-0d289655c785",
   "metadata": {},
   "outputs": [],
   "source": [
    "df.head(1)"
   ]
  },
  {
   "cell_type": "code",
   "execution_count": null,
   "id": "ce8da56c-4317-4cba-9062-6ed2b9690cc3",
   "metadata": {},
   "outputs": [],
   "source": [
    "df['Provider'].value_counts()  # AP - 10, TN - 9\n",
    "df['Diagnosis'].value_counts()\n",
    "df['Procedure'].value_counts()\n",
    "df['State'].value_counts()"
   ]
  },
  {
   "cell_type": "code",
   "execution_count": 127,
   "id": "f828022e-ba96-4f5f-95b2-d5cc164b70d5",
   "metadata": {},
   "outputs": [],
   "source": [
    "# Encode categorical variable\n",
    "# first we convert only Labels data\n",
    "from sklearn.preprocessing import LabelEncoder\n",
    "\n",
    "# syntax \n",
    "# var = le.fit_transform(df[columns])\n",
    "le = LabelEncoder()\n",
    "\n",
    "categorical_columns = [\"Provider\",'Diagnosis',\"Procedure\",\"State\"]\n",
    "\n",
    "\n",
    "for i in categorical_columns:\n",
    "    df[i] = le.fit_transform(df[i])"
   ]
  },
  {
   "cell_type": "code",
   "execution_count": null,
   "id": "621796c1-9900-42d3-bccb-61edb3c5d5a0",
   "metadata": {},
   "outputs": [],
   "source": [
    "df.head()"
   ]
  },
  {
   "cell_type": "code",
   "execution_count": null,
   "id": "39a98e0f-1be4-44d6-af86-8b5e75bdb9c6",
   "metadata": {},
   "outputs": [],
   "source": [
    "# convert Target and gender to binary\n",
    "df['Gender'].value_counts()\n",
    "df[\"Claim_Status\"].value_counts()"
   ]
  },
  {
   "cell_type": "code",
   "execution_count": 128,
   "id": "c3e57d77-4e04-4138-a72b-ae23d2e01e99",
   "metadata": {},
   "outputs": [],
   "source": [
    "# convert Target and gender to binary\n",
    "df[\"Claim_Status\"] = df[\"Claim_Status\"].replace({'Approved':1,'Denied':0})\n",
    "\n",
    "# convert gender columns\n",
    "df[\"Gender\"] = df[\"Gender\"].replace({'Male':1,'Female':0})"
   ]
  },
  {
   "cell_type": "code",
   "execution_count": null,
   "id": "adef7439-0735-4959-af54-28062b38c614",
   "metadata": {},
   "outputs": [],
   "source": [
    "df.head(1)"
   ]
  },
  {
   "cell_type": "code",
   "execution_count": 129,
   "id": "8ccc9308-c44b-4fdc-a73e-a356f7888b14",
   "metadata": {},
   "outputs": [],
   "source": [
    "#df[\"Policy_Type\"].value_counts()\n",
    "\n",
    "# also convert policy type columns\n",
    "df[\"Policy_Type\"] = le.fit_transform(df[\"Policy_Type\"])"
   ]
  },
  {
   "cell_type": "code",
   "execution_count": null,
   "id": "f1cec04b-5847-4c56-9026-a07cb8b0038a",
   "metadata": {},
   "outputs": [],
   "source": [
    "df.info()"
   ]
  },
  {
   "cell_type": "markdown",
   "id": "989e9917-db4b-4bd7-863b-88f9c117ab47",
   "metadata": {},
   "source": [
    "# Why drop claim_id"
   ]
  },
  {
   "cell_type": "code",
   "execution_count": null,
   "id": "25fdd04f-8857-4e54-bfe7-63984332c7e3",
   "metadata": {},
   "outputs": [],
   "source": [
    "It does not contribute to predict claim denial keeping it may add noise \n",
    "to the model\n",
    "machine learning models do not need unique identifier"
   ]
  },
  {
   "cell_type": "code",
   "execution_count": 130,
   "id": "8f3680d8-791c-46c0-89f3-a0d402068573",
   "metadata": {},
   "outputs": [],
   "source": [
    "df.drop(\"Claim_ID\",axis = 1,inplace = True)"
   ]
  },
  {
   "cell_type": "code",
   "execution_count": 131,
   "id": "54893495-f834-48e6-9223-0968b9c8d729",
   "metadata": {},
   "outputs": [
    {
     "data": {
      "text/html": [
       "<div>\n",
       "<style scoped>\n",
       "    .dataframe tbody tr th:only-of-type {\n",
       "        vertical-align: middle;\n",
       "    }\n",
       "\n",
       "    .dataframe tbody tr th {\n",
       "        vertical-align: top;\n",
       "    }\n",
       "\n",
       "    .dataframe thead th {\n",
       "        text-align: right;\n",
       "    }\n",
       "</style>\n",
       "<table border=\"1\" class=\"dataframe\">\n",
       "  <thead>\n",
       "    <tr style=\"text-align: right;\">\n",
       "      <th></th>\n",
       "      <th>Patient_Age</th>\n",
       "      <th>Gender</th>\n",
       "      <th>Provider</th>\n",
       "      <th>Diagnosis</th>\n",
       "      <th>Procedure</th>\n",
       "      <th>Claim_Amount</th>\n",
       "      <th>Hospital_Charges</th>\n",
       "      <th>State</th>\n",
       "      <th>Policy_Type</th>\n",
       "      <th>Claim_Status</th>\n",
       "    </tr>\n",
       "  </thead>\n",
       "  <tbody>\n",
       "    <tr>\n",
       "      <th>0</th>\n",
       "      <td>72</td>\n",
       "      <td>1</td>\n",
       "      <td>2</td>\n",
       "      <td>1</td>\n",
       "      <td>2</td>\n",
       "      <td>30785</td>\n",
       "      <td>3732</td>\n",
       "      <td>6</td>\n",
       "      <td>0</td>\n",
       "      <td>1</td>\n",
       "    </tr>\n",
       "  </tbody>\n",
       "</table>\n",
       "</div>"
      ],
      "text/plain": [
       "   Patient_Age  Gender  Provider  Diagnosis  Procedure  Claim_Amount  \\\n",
       "0           72       1         2          1          2         30785   \n",
       "\n",
       "   Hospital_Charges  State  Policy_Type  Claim_Status  \n",
       "0              3732      6            0             1  "
      ]
     },
     "execution_count": 131,
     "metadata": {},
     "output_type": "execute_result"
    }
   ],
   "source": [
    "df.head(1)"
   ]
  },
  {
   "cell_type": "code",
   "execution_count": 132,
   "id": "1ccd0cb9-8a00-4ab2-a057-506915ce46e8",
   "metadata": {},
   "outputs": [],
   "source": [
    "# standardize Numerical feature\n",
    "from sklearn.preprocessing import StandardScaler\n",
    "\n",
    "scaler = StandardScaler()\n",
    "numeric_feature = [\"Patient_Age\",\"Claim_Amount\",\"Hospital_Charges\"]\n",
    "df[numeric_feature] = scaler.fit_transform(df[numeric_feature])"
   ]
  },
  {
   "cell_type": "code",
   "execution_count": 133,
   "id": "dfd6e11a-6774-4f46-8632-b78686a6e9d8",
   "metadata": {},
   "outputs": [
    {
     "data": {
      "text/html": [
       "<div>\n",
       "<style scoped>\n",
       "    .dataframe tbody tr th:only-of-type {\n",
       "        vertical-align: middle;\n",
       "    }\n",
       "\n",
       "    .dataframe tbody tr th {\n",
       "        vertical-align: top;\n",
       "    }\n",
       "\n",
       "    .dataframe thead th {\n",
       "        text-align: right;\n",
       "    }\n",
       "</style>\n",
       "<table border=\"1\" class=\"dataframe\">\n",
       "  <thead>\n",
       "    <tr style=\"text-align: right;\">\n",
       "      <th></th>\n",
       "      <th>Patient_Age</th>\n",
       "      <th>Gender</th>\n",
       "      <th>Provider</th>\n",
       "      <th>Diagnosis</th>\n",
       "      <th>Procedure</th>\n",
       "      <th>Claim_Amount</th>\n",
       "      <th>Hospital_Charges</th>\n",
       "      <th>State</th>\n",
       "      <th>Policy_Type</th>\n",
       "      <th>Claim_Status</th>\n",
       "    </tr>\n",
       "  </thead>\n",
       "  <tbody>\n",
       "    <tr>\n",
       "      <th>0</th>\n",
       "      <td>0.901239</td>\n",
       "      <td>1</td>\n",
       "      <td>2</td>\n",
       "      <td>1</td>\n",
       "      <td>2</td>\n",
       "      <td>0.401964</td>\n",
       "      <td>-1.64671</td>\n",
       "      <td>6</td>\n",
       "      <td>0</td>\n",
       "      <td>1</td>\n",
       "    </tr>\n",
       "  </tbody>\n",
       "</table>\n",
       "</div>"
      ],
      "text/plain": [
       "   Patient_Age  Gender  Provider  Diagnosis  Procedure  Claim_Amount  \\\n",
       "0     0.901239       1         2          1          2      0.401964   \n",
       "\n",
       "   Hospital_Charges  State  Policy_Type  Claim_Status  \n",
       "0          -1.64671      6            0             1  "
      ]
     },
     "execution_count": 133,
     "metadata": {},
     "output_type": "execute_result"
    }
   ],
   "source": [
    "df.head(1)"
   ]
  },
  {
   "cell_type": "markdown",
   "id": "5bc3ca96-d1e2-498e-ac4a-1860e160f09d",
   "metadata": {},
   "source": [
    "# our data is imbalance so we applying smote technique to balance our data"
   ]
  },
  {
   "cell_type": "code",
   "execution_count": null,
   "id": "3274d35c-abce-4212-8cd5-b56c3703ad37",
   "metadata": {},
   "outputs": [],
   "source": [
    "1. random oversampling\n",
    "2. random undersampling\n",
    "3. smote (synthetic minority oversampling technique)"
   ]
  },
  {
   "cell_type": "code",
   "execution_count": 134,
   "id": "c0339e03-910f-4b8d-b01a-be12632757df",
   "metadata": {},
   "outputs": [],
   "source": [
    "from imblearn.over_sampling import SMOTE"
   ]
  },
  {
   "cell_type": "code",
   "execution_count": 135,
   "id": "89e41cee-33e1-42e7-baf1-6eced46867d5",
   "metadata": {},
   "outputs": [],
   "source": [
    "# seperates feature and target\n",
    "\n",
    "x = df.drop(\"Claim_Status\",axis = 1)\n",
    "y = df['Claim_Status']"
   ]
  },
  {
   "cell_type": "code",
   "execution_count": 136,
   "id": "1410804f-d34d-4992-a3cd-f2fb4f780d0c",
   "metadata": {},
   "outputs": [],
   "source": [
    "# apply smote to balance classes\n",
    "\n",
    "smote = SMOTE()\n",
    "x_resampled,y_resampled = smote.fit_resample(x,y)"
   ]
  },
  {
   "cell_type": "markdown",
   "id": "a8cd7d16-e818-4915-b170-831672df134a",
   "metadata": {},
   "source": [
    "# convert in datafram"
   ]
  },
  {
   "cell_type": "code",
   "execution_count": 137,
   "id": "5a06e028-09b3-4c5d-a583-a243631dbb5f",
   "metadata": {},
   "outputs": [],
   "source": [
    "df1 = pd.DataFrame(x_resampled, columns = x.columns)\n",
    "df1['target'] = y_resampled"
   ]
  },
  {
   "cell_type": "code",
   "execution_count": 138,
   "id": "5dc2762f-c7ef-432e-bc96-59ae89833c5d",
   "metadata": {},
   "outputs": [
    {
     "name": "stdout",
     "output_type": "stream",
     "text": [
      "<class 'pandas.core.frame.DataFrame'>\n",
      "RangeIndex: 7056 entries, 0 to 7055\n",
      "Data columns (total 10 columns):\n",
      " #   Column            Non-Null Count  Dtype  \n",
      "---  ------            --------------  -----  \n",
      " 0   Patient_Age       7056 non-null   float64\n",
      " 1   Gender            7056 non-null   int64  \n",
      " 2   Provider          7056 non-null   int32  \n",
      " 3   Diagnosis         7056 non-null   int32  \n",
      " 4   Procedure         7056 non-null   int32  \n",
      " 5   Claim_Amount      7056 non-null   float64\n",
      " 6   Hospital_Charges  7056 non-null   float64\n",
      " 7   State             7056 non-null   int32  \n",
      " 8   Policy_Type       7056 non-null   int32  \n",
      " 9   target            7056 non-null   int64  \n",
      "dtypes: float64(3), int32(5), int64(2)\n",
      "memory usage: 413.6 KB\n"
     ]
    }
   ],
   "source": [
    "df1.info()"
   ]
  },
  {
   "cell_type": "markdown",
   "id": "2e0ef9d2-5199-47dd-b1af-d6e6f8719be8",
   "metadata": {},
   "source": [
    "# check target variable distribution after balance"
   ]
  },
  {
   "cell_type": "code",
   "execution_count": 139,
   "id": "4bf9aa4e-edda-473b-9998-2982436b34f0",
   "metadata": {},
   "outputs": [
    {
     "data": {
      "image/png": "[encoded data removed]",
      "text/plain": [
       "<Figure size 640x480 with 1 Axes>"
      ]
     },
     "metadata": {},
     "output_type": "display_data"
    }
   ],
   "source": [
    "sns.countplot(x= df1['target'],palette = \"Set2\")\n",
    "plt.title(\"Distribution of claim Status\")\n",
    "plt.show()"
   ]
  },
  {
   "cell_type": "code",
   "execution_count": null,
   "id": "f1cf2895-c6a6-4d7f-9d13-ef06d933eb68",
   "metadata": {},
   "outputs": [],
   "source": [
    "# 1. classification or regression\n",
    "# 2. high dimention(more columns) svm, naive bayes\n",
    "# 3. low dimention(logistic,random,knn,decision)"
   ]
  },
  {
   "cell_type": "markdown",
   "id": "d9c369bc-7613-4fac-accb-bd621417cf08",
   "metadata": {},
   "source": [
    "# step6 split data for training and testing"
   ]
  },
  {
   "cell_type": "code",
   "execution_count": 171,
   "id": "4be8d484-6b06-4568-aea5-7eb42b26b66f",
   "metadata": {},
   "outputs": [],
   "source": [
    "# df1\n",
    "\n",
    "x = df1.drop(\"target\",axis = 1)\n",
    "y = df1[\"target\"]\n",
    "\n",
    "x_train,x_test,y_train,y_test = train_test_split(x,y,test_size = 0.2,random_state = 42)"
   ]
  },
  {
   "cell_type": "code",
   "execution_count": 110,
   "id": "eb555db4-9a7d-421e-ad16-4c2a200f7b08",
   "metadata": {},
   "outputs": [
    {
     "data": {
      "text/html": [
       "<div>\n",
       "<style scoped>\n",
       "    .dataframe tbody tr th:only-of-type {\n",
       "        vertical-align: middle;\n",
       "    }\n",
       "\n",
       "    .dataframe tbody tr th {\n",
       "        vertical-align: top;\n",
       "    }\n",
       "\n",
       "    .dataframe thead th {\n",
       "        text-align: right;\n",
       "    }\n",
       "</style>\n",
       "<table border=\"1\" class=\"dataframe\">\n",
       "  <thead>\n",
       "    <tr style=\"text-align: right;\">\n",
       "      <th></th>\n",
       "      <th>Patient_Age</th>\n",
       "      <th>Gender</th>\n",
       "      <th>Provider</th>\n",
       "      <th>Diagnosis</th>\n",
       "      <th>Procedure</th>\n",
       "      <th>Claim_Amount</th>\n",
       "      <th>Hospital_Charges</th>\n",
       "      <th>State</th>\n",
       "      <th>Policy_Type</th>\n",
       "    </tr>\n",
       "  </thead>\n",
       "  <tbody>\n",
       "    <tr>\n",
       "      <th>5981</th>\n",
       "      <td>41</td>\n",
       "      <td>0</td>\n",
       "      <td>0</td>\n",
       "      <td>2</td>\n",
       "      <td>1</td>\n",
       "      <td>30827</td>\n",
       "      <td>74368</td>\n",
       "      <td>0</td>\n",
       "      <td>0</td>\n",
       "    </tr>\n",
       "    <tr>\n",
       "      <th>4222</th>\n",
       "      <td>35</td>\n",
       "      <td>0</td>\n",
       "      <td>0</td>\n",
       "      <td>2</td>\n",
       "      <td>3</td>\n",
       "      <td>42814</td>\n",
       "      <td>20225</td>\n",
       "      <td>7</td>\n",
       "      <td>2</td>\n",
       "    </tr>\n",
       "    <tr>\n",
       "      <th>1729</th>\n",
       "      <td>69</td>\n",
       "      <td>1</td>\n",
       "      <td>4</td>\n",
       "      <td>1</td>\n",
       "      <td>4</td>\n",
       "      <td>38030</td>\n",
       "      <td>10013</td>\n",
       "      <td>3</td>\n",
       "      <td>0</td>\n",
       "    </tr>\n",
       "    <tr>\n",
       "      <th>3907</th>\n",
       "      <td>79</td>\n",
       "      <td>0</td>\n",
       "      <td>4</td>\n",
       "      <td>0</td>\n",
       "      <td>2</td>\n",
       "      <td>13265</td>\n",
       "      <td>73736</td>\n",
       "      <td>7</td>\n",
       "      <td>1</td>\n",
       "    </tr>\n",
       "    <tr>\n",
       "      <th>4209</th>\n",
       "      <td>48</td>\n",
       "      <td>1</td>\n",
       "      <td>0</td>\n",
       "      <td>1</td>\n",
       "      <td>1</td>\n",
       "      <td>33127</td>\n",
       "      <td>80910</td>\n",
       "      <td>9</td>\n",
       "      <td>2</td>\n",
       "    </tr>\n",
       "    <tr>\n",
       "      <th>...</th>\n",
       "      <td>...</td>\n",
       "      <td>...</td>\n",
       "      <td>...</td>\n",
       "      <td>...</td>\n",
       "      <td>...</td>\n",
       "      <td>...</td>\n",
       "      <td>...</td>\n",
       "      <td>...</td>\n",
       "      <td>...</td>\n",
       "    </tr>\n",
       "    <tr>\n",
       "      <th>3772</th>\n",
       "      <td>38</td>\n",
       "      <td>0</td>\n",
       "      <td>1</td>\n",
       "      <td>0</td>\n",
       "      <td>4</td>\n",
       "      <td>38317</td>\n",
       "      <td>18677</td>\n",
       "      <td>7</td>\n",
       "      <td>1</td>\n",
       "    </tr>\n",
       "    <tr>\n",
       "      <th>5191</th>\n",
       "      <td>61</td>\n",
       "      <td>0</td>\n",
       "      <td>3</td>\n",
       "      <td>2</td>\n",
       "      <td>2</td>\n",
       "      <td>31101</td>\n",
       "      <td>21116</td>\n",
       "      <td>1</td>\n",
       "      <td>2</td>\n",
       "    </tr>\n",
       "    <tr>\n",
       "      <th>5226</th>\n",
       "      <td>62</td>\n",
       "      <td>0</td>\n",
       "      <td>0</td>\n",
       "      <td>0</td>\n",
       "      <td>1</td>\n",
       "      <td>44419</td>\n",
       "      <td>59431</td>\n",
       "      <td>1</td>\n",
       "      <td>0</td>\n",
       "    </tr>\n",
       "    <tr>\n",
       "      <th>5390</th>\n",
       "      <td>40</td>\n",
       "      <td>1</td>\n",
       "      <td>1</td>\n",
       "      <td>1</td>\n",
       "      <td>3</td>\n",
       "      <td>19347</td>\n",
       "      <td>74545</td>\n",
       "      <td>5</td>\n",
       "      <td>0</td>\n",
       "    </tr>\n",
       "    <tr>\n",
       "      <th>860</th>\n",
       "      <td>43</td>\n",
       "      <td>1</td>\n",
       "      <td>3</td>\n",
       "      <td>4</td>\n",
       "      <td>4</td>\n",
       "      <td>2969</td>\n",
       "      <td>55583</td>\n",
       "      <td>8</td>\n",
       "      <td>1</td>\n",
       "    </tr>\n",
       "  </tbody>\n",
       "</table>\n",
       "<p>5644 rows × 9 columns</p>\n",
       "</div>"
      ],
      "text/plain": [
       "      Patient_Age  Gender  Provider  Diagnosis  Procedure  Claim_Amount  \\\n",
       "5981           41       0         0          2          1         30827   \n",
       "4222           35       0         0          2          3         42814   \n",
       "1729           69       1         4          1          4         38030   \n",
       "3907           79       0         4          0          2         13265   \n",
       "4209           48       1         0          1          1         33127   \n",
       "...           ...     ...       ...        ...        ...           ...   \n",
       "3772           38       0         1          0          4         38317   \n",
       "5191           61       0         3          2          2         31101   \n",
       "5226           62       0         0          0          1         44419   \n",
       "5390           40       1         1          1          3         19347   \n",
       "860            43       1         3          4          4          2969   \n",
       "\n",
       "      Hospital_Charges  State  Policy_Type  \n",
       "5981             74368      0            0  \n",
       "4222             20225      7            2  \n",
       "1729             10013      3            0  \n",
       "3907             73736      7            1  \n",
       "4209             80910      9            2  \n",
       "...                ...    ...          ...  \n",
       "3772             18677      7            1  \n",
       "5191             21116      1            2  \n",
       "5226             59431      1            0  \n",
       "5390             74545      5            0  \n",
       "860              55583      8            1  \n",
       "\n",
       "[5644 rows x 9 columns]"
      ]
     },
     "execution_count": 110,
     "metadata": {},
     "output_type": "execute_result"
    }
   ],
   "source": [
    "x_train"
   ]
  },
  {
   "cell_type": "markdown",
   "id": "ba521818-f619-46b8-88f0-17cdc02f9e0e",
   "metadata": {},
   "source": [
    "# step7 : train multiple ml model"
   ]
  },
  {
   "cell_type": "code",
   "execution_count": 141,
   "id": "f69c1205-257e-45e8-a22c-a0928b4a533f",
   "metadata": {},
   "outputs": [
    {
     "data": {
      "text/html": [
       "<style>#sk-container-id-3 {color: black;background-color: white;}#sk-container-id-3 pre{padding: 0;}#sk-container-id-3 div.sk-toggleable {background-color: white;}#sk-container-id-3 label.sk-toggleable__label {cursor: pointer;display: block;width: 100%;margin-bottom: 0;padding: 0.3em;box-sizing: border-box;text-align: center;}#sk-container-id-3 label.sk-toggleable__label-arrow:before {content: \"▸\";float: left;margin-right: 0.25em;color: #696969;}#sk-container-id-3 label.sk-toggleable__label-arrow:hover:before {color: black;}#sk-container-id-3 div.sk-estimator:hover label.sk-toggleable__label-arrow:before {color: black;}#sk-container-id-3 div.sk-toggleable__content {max-height: 0;max-width: 0;overflow: hidden;text-align: left;background-color: #f0f8ff;}#sk-container-id-3 div.sk-toggleable__content pre {margin: 0.2em;color: black;border-radius: 0.25em;background-color: #f0f8ff;}#sk-container-id-3 input.sk-toggleable__control:checked~div.sk-toggleable__content {max-height: 200px;max-width: 100%;overflow: auto;}#sk-container-id-3 input.sk-toggleable__control:checked~label.sk-toggleable__label-arrow:before {content: \"▾\";}#sk-container-id-3 div.sk-estimator input.sk-toggleable__control:checked~label.sk-toggleable__label {background-color: #d4ebff;}#sk-container-id-3 div.sk-label input.sk-toggleable__control:checked~label.sk-toggleable__label {background-color: #d4ebff;}#sk-container-id-3 input.sk-hidden--visually {border: 0;clip: rect(1px 1px 1px 1px);clip: rect(1px, 1px, 1px, 1px);height: 1px;margin: -1px;overflow: hidden;padding: 0;position: absolute;width: 1px;}#sk-container-id-3 div.sk-estimator {font-family: monospace;background-color: #f0f8ff;border: 1px dotted black;border-radius: 0.25em;box-sizing: border-box;margin-bottom: 0.5em;}#sk-container-id-3 div.sk-estimator:hover {background-color: #d4ebff;}#sk-container-id-3 div.sk-parallel-item::after {content: \"\";width: 100%;border-bottom: 1px solid gray;flex-grow: 1;}#sk-container-id-3 div.sk-label:hover label.sk-toggleable__label {background-color: #d4ebff;}#sk-container-id-3 div.sk-serial::before {content: \"\";position: absolute;border-left: 1px solid gray;box-sizing: border-box;top: 0;bottom: 0;left: 50%;z-index: 0;}#sk-container-id-3 div.sk-serial {display: flex;flex-direction: column;align-items: center;background-color: white;padding-right: 0.2em;padding-left: 0.2em;position: relative;}#sk-container-id-3 div.sk-item {position: relative;z-index: 1;}#sk-container-id-3 div.sk-parallel {display: flex;align-items: stretch;justify-content: center;background-color: white;position: relative;}#sk-container-id-3 div.sk-item::before, #sk-container-id-3 div.sk-parallel-item::before {content: \"\";position: absolute;border-left: 1px solid gray;box-sizing: border-box;top: 0;bottom: 0;left: 50%;z-index: -1;}#sk-container-id-3 div.sk-parallel-item {display: flex;flex-direction: column;z-index: 1;position: relative;background-color: white;}#sk-container-id-3 div.sk-parallel-item:first-child::after {align-self: flex-end;width: 50%;}#sk-container-id-3 div.sk-parallel-item:last-child::after {align-self: flex-start;width: 50%;}#sk-container-id-3 div.sk-parallel-item:only-child::after {width: 0;}#sk-container-id-3 div.sk-dashed-wrapped {border: 1px dashed gray;margin: 0 0.4em 0.5em 0.4em;box-sizing: border-box;padding-bottom: 0.4em;background-color: white;}#sk-container-id-3 div.sk-label label {font-family: monospace;font-weight: bold;display: inline-block;line-height: 1.2em;}#sk-container-id-3 div.sk-label-container {text-align: center;}#sk-container-id-3 div.sk-container {/* jupyter's `normalize.less` sets `[hidden] { display: none; }` but bootstrap.min.css set `[hidden] { display: none !important; }` so we also need the `!important` here to be able to override the default hidden behavior on the sphinx rendered scikit-learn.org. See: https://github.com/scikit-learn/scikit-learn/issues/21755 */display: inline-block !important;position: relative;}#sk-container-id-3 div.sk-text-repr-fallback {display: none;}</style><div id=\"sk-container-id-3\" class=\"sk-top-container\"><div class=\"sk-text-repr-fallback\"><pre>LogisticRegression()</pre><b>In a Jupyter environment, please rerun this cell to show the HTML representation or trust the notebook. <br />On GitHub, the HTML representation is unable to render, please try loading this page with nbviewer.org.</b></div><div class=\"sk-container\" hidden><div class=\"sk-item\"><div class=\"sk-estimator sk-toggleable\"><input class=\"sk-toggleable__control sk-hidden--visually\" id=\"sk-estimator-id-3\" type=\"checkbox\" checked><label for=\"sk-estimator-id-3\" class=\"sk-toggleable__label sk-toggleable__label-arrow\">LogisticRegression</label><div class=\"sk-toggleable__content\"><pre>LogisticRegression()</pre></div></div></div></div></div>"
      ],
      "text/plain": [
       "LogisticRegression()"
      ]
     },
     "execution_count": 141,
     "metadata": {},
     "output_type": "execute_result"
    }
   ],
   "source": [
    "log_model = LogisticRegression()\n",
    "log_model.fit(x_train,y_train)"
   ]
  },
  {
   "cell_type": "code",
   "execution_count": 142,
   "id": "fe226517-6f5b-47c4-8942-b2128e7b99c9",
   "metadata": {},
   "outputs": [
    {
     "name": "stdout",
     "output_type": "stream",
     "text": [
      "accuracy of testing data : 0.5354107648725213\n",
      "accuracy of training data : 0.5467753366406803\n"
     ]
    }
   ],
   "source": [
    "# evalue on testing data\n",
    "y_pred_test = log_model.predict(x_test)\n",
    "accuracy_test = accuracy_score(y_pred_test,y_test)\n",
    "print(f\"accuracy of testing data :\",accuracy_test)\n",
    "\n",
    "# evaluation of training dataset\n",
    "y_pred_train = log_model.predict(x_train)\n",
    "\n",
    "accuracy_train = accuracy_score(y_pred_train,y_train)\n",
    "print(f\"accuracy of training data :\",accuracy_train)"
   ]
  },
  {
   "cell_type": "markdown",
   "id": "bf4fa22e-c0d3-4005-88db-d71f2671253c",
   "metadata": {},
   "source": [
    "###### random forest"
   ]
  },
  {
   "cell_type": "code",
   "execution_count": 143,
   "id": "daeb3f70-a19a-4cb3-b734-314ba528609c",
   "metadata": {},
   "outputs": [
    {
     "data": {
      "text/html": [
       "<style>#sk-container-id-4 {color: black;background-color: white;}#sk-container-id-4 pre{padding: 0;}#sk-container-id-4 div.sk-toggleable {background-color: white;}#sk-container-id-4 label.sk-toggleable__label {cursor: pointer;display: block;width: 100%;margin-bottom: 0;padding: 0.3em;box-sizing: border-box;text-align: center;}#sk-container-id-4 label.sk-toggleable__label-arrow:before {content: \"▸\";float: left;margin-right: 0.25em;color: #696969;}#sk-container-id-4 label.sk-toggleable__label-arrow:hover:before {color: black;}#sk-container-id-4 div.sk-estimator:hover label.sk-toggleable__label-arrow:before {color: black;}#sk-container-id-4 div.sk-toggleable__content {max-height: 0;max-width: 0;overflow: hidden;text-align: left;background-color: #f0f8ff;}#sk-container-id-4 div.sk-toggleable__content pre {margin: 0.2em;color: black;border-radius: 0.25em;background-color: #f0f8ff;}#sk-container-id-4 input.sk-toggleable__control:checked~div.sk-toggleable__content {max-height: 200px;max-width: 100%;overflow: auto;}#sk-container-id-4 input.sk-toggleable__control:checked~label.sk-toggleable__label-arrow:before {content: \"▾\";}#sk-container-id-4 div.sk-estimator input.sk-toggleable__control:checked~label.sk-toggleable__label {background-color: #d4ebff;}#sk-container-id-4 div.sk-label input.sk-toggleable__control:checked~label.sk-toggleable__label {background-color: #d4ebff;}#sk-container-id-4 input.sk-hidden--visually {border: 0;clip: rect(1px 1px 1px 1px);clip: rect(1px, 1px, 1px, 1px);height: 1px;margin: -1px;overflow: hidden;padding: 0;position: absolute;width: 1px;}#sk-container-id-4 div.sk-estimator {font-family: monospace;background-color: #f0f8ff;border: 1px dotted black;border-radius: 0.25em;box-sizing: border-box;margin-bottom: 0.5em;}#sk-container-id-4 div.sk-estimator:hover {background-color: #d4ebff;}#sk-container-id-4 div.sk-parallel-item::after {content: \"\";width: 100%;border-bottom: 1px solid gray;flex-grow: 1;}#sk-container-id-4 div.sk-label:hover label.sk-toggleable__label {background-color: #d4ebff;}#sk-container-id-4 div.sk-serial::before {content: \"\";position: absolute;border-left: 1px solid gray;box-sizing: border-box;top: 0;bottom: 0;left: 50%;z-index: 0;}#sk-container-id-4 div.sk-serial {display: flex;flex-direction: column;align-items: center;background-color: white;padding-right: 0.2em;padding-left: 0.2em;position: relative;}#sk-container-id-4 div.sk-item {position: relative;z-index: 1;}#sk-container-id-4 div.sk-parallel {display: flex;align-items: stretch;justify-content: center;background-color: white;position: relative;}#sk-container-id-4 div.sk-item::before, #sk-container-id-4 div.sk-parallel-item::before {content: \"\";position: absolute;border-left: 1px solid gray;box-sizing: border-box;top: 0;bottom: 0;left: 50%;z-index: -1;}#sk-container-id-4 div.sk-parallel-item {display: flex;flex-direction: column;z-index: 1;position: relative;background-color: white;}#sk-container-id-4 div.sk-parallel-item:first-child::after {align-self: flex-end;width: 50%;}#sk-container-id-4 div.sk-parallel-item:last-child::after {align-self: flex-start;width: 50%;}#sk-container-id-4 div.sk-parallel-item:only-child::after {width: 0;}#sk-container-id-4 div.sk-dashed-wrapped {border: 1px dashed gray;margin: 0 0.4em 0.5em 0.4em;box-sizing: border-box;padding-bottom: 0.4em;background-color: white;}#sk-container-id-4 div.sk-label label {font-family: monospace;font-weight: bold;display: inline-block;line-height: 1.2em;}#sk-container-id-4 div.sk-label-container {text-align: center;}#sk-container-id-4 div.sk-container {/* jupyter's `normalize.less` sets `[hidden] { display: none; }` but bootstrap.min.css set `[hidden] { display: none !important; }` so we also need the `!important` here to be able to override the default hidden behavior on the sphinx rendered scikit-learn.org. See: https://github.com/scikit-learn/scikit-learn/issues/21755 */display: inline-block !important;position: relative;}#sk-container-id-4 div.sk-text-repr-fallback {display: none;}</style><div id=\"sk-container-id-4\" class=\"sk-top-container\"><div class=\"sk-text-repr-fallback\"><pre>RandomForestClassifier()</pre><b>In a Jupyter environment, please rerun this cell to show the HTML representation or trust the notebook. <br />On GitHub, the HTML representation is unable to render, please try loading this page with nbviewer.org.</b></div><div class=\"sk-container\" hidden><div class=\"sk-item\"><div class=\"sk-estimator sk-toggleable\"><input class=\"sk-toggleable__control sk-hidden--visually\" id=\"sk-estimator-id-4\" type=\"checkbox\" checked><label for=\"sk-estimator-id-4\" class=\"sk-toggleable__label sk-toggleable__label-arrow\">RandomForestClassifier</label><div class=\"sk-toggleable__content\"><pre>RandomForestClassifier()</pre></div></div></div></div></div>"
      ],
      "text/plain": [
       "RandomForestClassifier()"
      ]
     },
     "execution_count": 143,
     "metadata": {},
     "output_type": "execute_result"
    }
   ],
   "source": [
    "rf_model = RandomForestClassifier()\n",
    "rf_model.fit(x_train,y_train)"
   ]
  },
  {
   "cell_type": "code",
   "execution_count": 144,
   "id": "be35bb03-6d37-462d-9510-6b72117456a3",
   "metadata": {},
   "outputs": [
    {
     "name": "stdout",
     "output_type": "stream",
     "text": [
      "accuracy of testing data : 0.7287535410764873\n",
      "accuracy of training data : 1.0\n"
     ]
    }
   ],
   "source": [
    "# evalue on testing data\n",
    "y_pred_test = rf_model.predict(x_test)\n",
    "accuracy_test = accuracy_score(y_pred_test,y_test)\n",
    "print(f\"accuracy of testing data :\",accuracy_test)\n",
    "\n",
    "# evaluation of training dataset\n",
    "y_pred_train = rf_model.predict(x_train)\n",
    "\n",
    "accuracy_train = accuracy_score(y_pred_train,y_train)\n",
    "print(f\"accuracy of training data :\",accuracy_train)"
   ]
  },
  {
   "cell_type": "code",
   "execution_count": null,
   "id": "6591262d-ff2b-4696-b60b-4c35cef54509",
   "metadata": {},
   "outputs": [],
   "source": [
    "# by using random forest model we get best accuracy but\n",
    "# our model is overfitted\n",
    "# overfitted - best accuracy on tarining data\n",
    "               # bad accuracy on testin data\n",
    "\n",
    "accuracy of testing data : 0.6784702549575071\n",
    "accuracy of training data : 1.0"
   ]
  },
  {
   "cell_type": "markdown",
   "id": "7e7416d7-7a9f-4f12-9ab7-1a5109b575c1",
   "metadata": {},
   "source": [
    "# step8: Hyperparametere tunning (GridSearchCv)"
   ]
  },
  {
   "cell_type": "code",
   "execution_count": 149,
   "id": "3285bef0-6a5d-4c50-b2b5-a3fddaae7a25",
   "metadata": {},
   "outputs": [],
   "source": [
    "from sklearn.model_selection import RandomizedSearchCV"
   ]
  },
  {
   "cell_type": "code",
   "execution_count": 153,
   "id": "0e4cd890-74aa-4e1b-9bba-628ad2d9d349",
   "metadata": {},
   "outputs": [],
   "source": [
    "rf_model = RandomForestClassifier()\n",
    "\n",
    "para = {\"criterion\":['gini','entropy'],\n",
    "    'max_depth':np.arange(3,20),\n",
    "    \"min_samples_split\":np.arange(3,20)\n",
    "    \"min_samples_leaf\":np.arange(2,10),\n",
    "    \"n_estimators\":np.arange(50,150)}\n",
    "\n",
    "random_search = RandomizedSearchCV(rf_model, para, cv = 5)\n",
    "random_search.fit(x_train, y_train)\n",
    "best_model = random_search.best_estimator_"
   ]
  },
  {
   "cell_type": "code",
   "execution_count": 154,
   "id": "cf147bdd-37c8-458f-b4e3-43e270e2945f",
   "metadata": {},
   "outputs": [
    {
     "name": "stdout",
     "output_type": "stream",
     "text": [
      "testing accuracy after hyp. : 0.6749291784702549\n",
      "training accuracy after hyp. : 0.9337349397590361\n"
     ]
    }
   ],
   "source": [
    "# evaluation of testing\n",
    "y_pred_train = best_model.predict(x_test)\n",
    "\n",
    "accuracy_test = accuracy_score(y_pred_train, y_test)\n",
    "print(\"testing accuracy after hyp. :\",accuracy_test)\n",
    "\n",
    "# evaluation of training  data set\n",
    "y_pred_train = best_model.predict(x_train)\n",
    "\n",
    "accuracy_train = accuracy_score(y_pred_train,y_train)\n",
    "print(\"training accuracy after hyp. :\",accuracy_train)"
   ]
  },
  {
   "cell_type": "markdown",
   "id": "96d15859-373c-40c4-b133-9432a868b6f7",
   "metadata": {},
   "source": [
    "# support vector machine (svm)"
   ]
  },
  {
   "cell_type": "code",
   "execution_count": 155,
   "id": "3cba0972-358e-461c-a15e-9ed0c0202b66",
   "metadata": {},
   "outputs": [],
   "source": [
    "from sklearn.svm import SVC"
   ]
  },
  {
   "cell_type": "code",
   "execution_count": 158,
   "id": "79377fec-b132-4de8-bc63-cfd00cc87485",
   "metadata": {},
   "outputs": [
    {
     "data": {
      "text/html": [
       "<style>#sk-container-id-5 {color: black;background-color: white;}#sk-container-id-5 pre{padding: 0;}#sk-container-id-5 div.sk-toggleable {background-color: white;}#sk-container-id-5 label.sk-toggleable__label {cursor: pointer;display: block;width: 100%;margin-bottom: 0;padding: 0.3em;box-sizing: border-box;text-align: center;}#sk-container-id-5 label.sk-toggleable__label-arrow:before {content: \"▸\";float: left;margin-right: 0.25em;color: #696969;}#sk-container-id-5 label.sk-toggleable__label-arrow:hover:before {color: black;}#sk-container-id-5 div.sk-estimator:hover label.sk-toggleable__label-arrow:before {color: black;}#sk-container-id-5 div.sk-toggleable__content {max-height: 0;max-width: 0;overflow: hidden;text-align: left;background-color: #f0f8ff;}#sk-container-id-5 div.sk-toggleable__content pre {margin: 0.2em;color: black;border-radius: 0.25em;background-color: #f0f8ff;}#sk-container-id-5 input.sk-toggleable__control:checked~div.sk-toggleable__content {max-height: 200px;max-width: 100%;overflow: auto;}#sk-container-id-5 input.sk-toggleable__control:checked~label.sk-toggleable__label-arrow:before {content: \"▾\";}#sk-container-id-5 div.sk-estimator input.sk-toggleable__control:checked~label.sk-toggleable__label {background-color: #d4ebff;}#sk-container-id-5 div.sk-label input.sk-toggleable__control:checked~label.sk-toggleable__label {background-color: #d4ebff;}#sk-container-id-5 input.sk-hidden--visually {border: 0;clip: rect(1px 1px 1px 1px);clip: rect(1px, 1px, 1px, 1px);height: 1px;margin: -1px;overflow: hidden;padding: 0;position: absolute;width: 1px;}#sk-container-id-5 div.sk-estimator {font-family: monospace;background-color: #f0f8ff;border: 1px dotted black;border-radius: 0.25em;box-sizing: border-box;margin-bottom: 0.5em;}#sk-container-id-5 div.sk-estimator:hover {background-color: #d4ebff;}#sk-container-id-5 div.sk-parallel-item::after {content: \"\";width: 100%;border-bottom: 1px solid gray;flex-grow: 1;}#sk-container-id-5 div.sk-label:hover label.sk-toggleable__label {background-color: #d4ebff;}#sk-container-id-5 div.sk-serial::before {content: \"\";position: absolute;border-left: 1px solid gray;box-sizing: border-box;top: 0;bottom: 0;left: 50%;z-index: 0;}#sk-container-id-5 div.sk-serial {display: flex;flex-direction: column;align-items: center;background-color: white;padding-right: 0.2em;padding-left: 0.2em;position: relative;}#sk-container-id-5 div.sk-item {position: relative;z-index: 1;}#sk-container-id-5 div.sk-parallel {display: flex;align-items: stretch;justify-content: center;background-color: white;position: relative;}#sk-container-id-5 div.sk-item::before, #sk-container-id-5 div.sk-parallel-item::before {content: \"\";position: absolute;border-left: 1px solid gray;box-sizing: border-box;top: 0;bottom: 0;left: 50%;z-index: -1;}#sk-container-id-5 div.sk-parallel-item {display: flex;flex-direction: column;z-index: 1;position: relative;background-color: white;}#sk-container-id-5 div.sk-parallel-item:first-child::after {align-self: flex-end;width: 50%;}#sk-container-id-5 div.sk-parallel-item:last-child::after {align-self: flex-start;width: 50%;}#sk-container-id-5 div.sk-parallel-item:only-child::after {width: 0;}#sk-container-id-5 div.sk-dashed-wrapped {border: 1px dashed gray;margin: 0 0.4em 0.5em 0.4em;box-sizing: border-box;padding-bottom: 0.4em;background-color: white;}#sk-container-id-5 div.sk-label label {font-family: monospace;font-weight: bold;display: inline-block;line-height: 1.2em;}#sk-container-id-5 div.sk-label-container {text-align: center;}#sk-container-id-5 div.sk-container {/* jupyter's `normalize.less` sets `[hidden] { display: none; }` but bootstrap.min.css set `[hidden] { display: none !important; }` so we also need the `!important` here to be able to override the default hidden behavior on the sphinx rendered scikit-learn.org. See: https://github.com/scikit-learn/scikit-learn/issues/21755 */display: inline-block !important;position: relative;}#sk-container-id-5 div.sk-text-repr-fallback {display: none;}</style><div id=\"sk-container-id-5\" class=\"sk-top-container\"><div class=\"sk-text-repr-fallback\"><pre>SVC(kernel=&#x27;linear&#x27;)</pre><b>In a Jupyter environment, please rerun this cell to show the HTML representation or trust the notebook. <br />On GitHub, the HTML representation is unable to render, please try loading this page with nbviewer.org.</b></div><div class=\"sk-container\" hidden><div class=\"sk-item\"><div class=\"sk-estimator sk-toggleable\"><input class=\"sk-toggleable__control sk-hidden--visually\" id=\"sk-estimator-id-5\" type=\"checkbox\" checked><label for=\"sk-estimator-id-5\" class=\"sk-toggleable__label sk-toggleable__label-arrow\">SVC</label><div class=\"sk-toggleable__content\"><pre>SVC(kernel=&#x27;linear&#x27;)</pre></div></div></div></div></div>"
      ],
      "text/plain": [
       "SVC(kernel='linear')"
      ]
     },
     "execution_count": 158,
     "metadata": {},
     "output_type": "execute_result"
    }
   ],
   "source": [
    "# model training \n",
    "svm_model = SVC(kernel = 'linear')\n",
    "svm_model.fit(x_train, y_train)"
   ]
  },
  {
   "cell_type": "code",
   "execution_count": 159,
   "id": "9b2ce95c-e4f4-43c5-b1e7-d2056d980252",
   "metadata": {},
   "outputs": [],
   "source": [
    "# evaluation of testing data set\n",
    "y_pred_test = svm_model.predict(x_test)"
   ]
  },
  {
   "cell_type": "code",
   "execution_count": 160,
   "id": "a079bdaa-09d7-4889-8e08-338245b139aa",
   "metadata": {},
   "outputs": [
    {
     "name": "stdout",
     "output_type": "stream",
     "text": [
      "testing accuracy after hyp. : 0.5417847025495751\n",
      "training accuracy after hyp. : 0.9337349397590361\n"
     ]
    }
   ],
   "source": [
    "# evaluation of testing\n",
    "y_pred_train = svm_model.predict(x_test)\n",
    "\n",
    "accuracy_test = accuracy_score(y_pred_train, y_test)\n",
    "print(\"testing accuracy after hyp. :\",accuracy_test)\n",
    "\n",
    "# evaluation of training  data set\n",
    "y_pred_train = best_model.predict(x_train)\n",
    "\n",
    "accuracy_train = accuracy_score(y_pred_train,y_train)\n",
    "print(\"training accuracy after hyp. :\",accuracy_train)"
   ]
  },
  {
   "cell_type": "markdown",
   "id": "e46ead34-a682-4997-81c5-a9138fbf5a44",
   "metadata": {},
   "source": [
    "# step 9 : save model as pickle $ json"
   ]
  },
  {
   "cell_type": "markdown",
   "id": "257a14a7-34e7-40f2-bebc-ae5db44ceb7e",
   "metadata": {},
   "source": [
    "#### save the model in pickle"
   ]
  },
  {
   "cell_type": "code",
   "execution_count": 164,
   "id": "faa6ce5c-4780-44b9-b4be-7fba35dbfa45",
   "metadata": {},
   "outputs": [],
   "source": [
    "with open(\"model.pkl\",'wb') as f:\n",
    "    pickle.dump(best_model, f)"
   ]
  },
  {
   "cell_type": "markdown",
   "id": "84b937c7-27bf-4db2-8c78-04c345aebf2d",
   "metadata": {},
   "source": [
    "##### save model parametere"
   ]
  },
  {
   "cell_type": "code",
   "execution_count": 167,
   "id": "89d62a39-4a8c-47a1-bb96-a8fc5a2c2225",
   "metadata": {},
   "outputs": [],
   "source": [
    "model_json = {\"max_depth\" : 15,\"min_samples_leaf\":4,\"min_samples_split\":8,\"n_estimators\":95}\n",
    "with open(\"model_config.json\",'w') as f:\n",
    "    json.dump(model_json,f)"
   ]
  },
  {
   "cell_type": "code",
   "execution_count": 170,
   "id": "b421364e-a9fa-472b-8200-5c74bb9cc127",
   "metadata": {},
   "outputs": [
    {
     "name": "stdout",
     "output_type": "stream",
     "text": [
      "{'max_depth': 15, 'min_samples_leaf': 4, 'min_samples_split': 8, 'n_estimators': 95}\n"
     ]
    }
   ],
   "source": [
    "with open(\"model_config.json\",'r') as f:\n",
    "    data = json.load(f)\n",
    "print(data)"
   ]
  },
  {
   "cell_type": "code",
   "execution_count": null,
   "id": "ef16e19f-d736-40b3-a7cf-03ccfe5694f7",
   "metadata": {},
   "outputs": [],
   "source": [
    "# json means = dictionary"
   ]
  }
 ],
 "metadata": {
  "kernelspec": {
   "display_name": "Python 3 (ipykernel)",
   "language": "python",
   "name": "python3"
  },
  "language_info": {
   "codemirror_mode": {
    "name": "ipython",
    "version": 3
   },
   "file_extension": ".py",
   "mimetype": "text/x-python",
   "name": "python",
   "nbconvert_exporter": "python",
   "pygments_lexer": "ipython3",
   "version": "3.11.7"
  }
 },
 "nbformat": 4,
 "nbformat_minor": 5
}
